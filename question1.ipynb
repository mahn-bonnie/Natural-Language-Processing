{
  "nbformat": 4,
  "nbformat_minor": 0,
  "metadata": {
    "colab": {
      "provenance": []
    },
    "kernelspec": {
      "name": "python3",
      "display_name": "Python 3"
    },
    "language_info": {
      "name": "python"
    }
  },
  "cells": [
    {
      "cell_type": "code",
      "execution_count": 1,
      "metadata": {
        "colab": {
          "base_uri": "https://localhost:8080/"
        },
        "id": "DYUrrwJOVgeI",
        "outputId": "f9008382-bcc4-4744-d299-45b2f64b3217"
      },
      "outputs": [
        {
          "output_type": "stream",
          "name": "stdout",
          "text": [
            "Derivational morphology:\n",
            "Unique: Unique (Unique) + \n",
            "research: research (research) + \n",
            "into: into (into) + \n",
            "thousands: thousands (thousands) + \n",
            "of: of (of) + \n",
            "historic: historic (historic) + \n",
            "clothing: clothing (clothing) + \n",
            "patents: patents (patents) + \n",
            "has: has (has) + \n",
            "revealed: revealed (revealed) + \n",
            "\n",
            "Inflectional morphology:\n",
            "thousands: thousand (thousands) + s\n",
            "patents: patent (patents) + s\n",
            "revealed: reveal (revealed) + ed\n",
            "innovators: innovator (innovators) + s\n",
            "helped: help (helped) + ed\n",
            "restrictions: restriction (restrictions) + s\n",
            "access: acces (access) + s\n",
            "patents: patent (patents) + s\n",
            "1890s: 1890 (1890s) + s\n",
            "1940s: 1940 (1940s) + s\n",
            "\n",
            "Internal change or allomorphy:\n",
            "reveal\n",
            "revealed\n",
            "explores\n",
            "\n",
            "Compounds:\n",
            "open-access:  (open-access)\n"
          ]
        }
      ],
      "source": [
        "#THE GIVEN TEXT OF THE EXCERPT\n",
        "\n",
        "#PYTHON CODE\n",
        "\n",
        "text = \"\"\"Unique research into thousands of historic clothing patents has revealed a hidden history of innovators and inventive clothing that helped women defy political and societal restrictions barring their access to living active and sporting lives. For the first time, a selection of extraordinary active and sportswear patents from the 1890s to the 1940s have been brought to life by Goldsmiths sewing sociologist Dr Katrina Jungnickel and her team at the Politics of Patents (POP) project funded by the European Research Council. Dr Kat Jungnickel said: “Clothes patent archives are a veritable treasure trove of inventiveness. We’ve unearthed hundreds of clothing inventions for and by women for all kinds of sports and activities. They reveal the extraordinarily ingenious ways that women have challenged the status quo to do what they’ve loved while forging the path for future generations.” They were tried on and tested out by the Adventure Syndicate and Mór Diversity consultancy, organisations holding brands and government to account for their equity, diversity and inclusion policies and inspiring and encouraging participation in sports and activities for everyone. Both the research by Dr Jungnickel and putting the clothing through their paces highlight how women’s participation in outdoor activities and sports remains a contentious issue. Who gets to be sporty and active was one of the key questions that emerged from the POP project that explores 200 years of clothing inventions from 1820 to 2020. Delving into 120 million publicly available open-access patents from the European Patent Organisation provided valuable social science data revealing information about inventors, their lives and the problems that concerned them.\"\"\"\n",
        "\n",
        "# a) Derivational morphology\n",
        "derivations = []\n",
        "for word in text.split():\n",
        "    base, *affixes = word[:-1].rsplit('-', 1) if '-' in word else (word, '')\n",
        "    if affixes:\n",
        "        derivations.append((word, base, affixes[0], word.split()[-1]))\n",
        "\n",
        "print(\"Derivational morphology:\")\n",
        "for word, base, affix, category in derivations[:10]:\n",
        "    print(f\"{word}: {base} ({category}) + {affix}\")\n",
        "\n",
        "# b) Inflectional morphology\n",
        "inflections = []\n",
        "for word in text.split():\n",
        "    if word.endswith('s') and word not in ['is', 'was', 'has']:\n",
        "        inflections.append((word, word[:-1], 's', word.split()[-1]))\n",
        "    elif word.endswith('ed') and word not in ['said']:\n",
        "        inflections.append((word, word[:-2], 'ed', word.split()[-1]))\n",
        "\n",
        "print(\"\\nInflectional morphology:\")\n",
        "for word, base, affix, category in inflections[:10]:\n",
        "    print(f\"{word}: {base} ({category}) + {affix}\")\n",
        "\n",
        "# c) Internal change or allomorphy\n",
        "internal_change = []\n",
        "for word, base, affix, category in derivations + inflections:\n",
        "    if base in ['invent', 'reveal', 'select', 'challenge', 'hold', 'explore']:\n",
        "        internal_change.append(word)\n",
        "\n",
        "print(\"\\nInternal change or allomorphy:\")\n",
        "for word in internal_change:\n",
        "    print(word)\n",
        "\n",
        "# d) Compounds\n",
        "compounds = []\n",
        "for word in text.split():\n",
        "    if '-' in word and word not in derivations:\n",
        "        *roots, category = word.split()\n",
        "        compounds.append((word, '/'.join(roots), category))\n",
        "\n",
        "print(\"\\nCompounds:\")\n",
        "for word, roots, category in compounds:\n",
        "    print(f\"{word}: {roots} ({category})\")\n",
        "\n",
        "\n",
        "\n",
        "# Derivational Morphology\n",
        "# Words, their root/base form, syntactic category of the base form, affixes, and syntactic category of the derived form\n",
        "derivational_morphology_examples = [\n",
        "    (\"innovators\", \"innovate\", \"verb\", \"or\", \"noun\"),\n",
        "    (\"inventive\", \"invent\", \"verb\", \"ive\", \"adjective\"),\n",
        "    (\"defy\", \"defy\", \"verb\", None, None),\n",
        "    (\"barring\", \"bar\", \"verb\", \"ing\", \"verb\"),\n",
        "    (\"access\", \"access\", \"noun\", None, None),\n",
        "    (\"living\", \"live\", \"verb\", \"ing\", \"adjective\"),\n",
        "    (\"sporting\", \"sport\", \"noun\", \"ing\", \"adjective\"),\n",
        "    (\"brought\", \"bring\", \"verb\", \"ed\", \"verb\"),\n",
        "    (\"unearthed\", \"earth\", \"noun\", \"ed\", \"verb\"),\n",
        "    (\"challenged\", \"challenge\", \"noun\", \"ed\", \"verb\"),\n",
        "]\n",
        "\n"
      ]
    }
  ]
}