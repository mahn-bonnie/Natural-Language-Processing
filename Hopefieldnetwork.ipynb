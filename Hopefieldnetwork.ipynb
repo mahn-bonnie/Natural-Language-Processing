{
  "nbformat": 4,
  "nbformat_minor": 0,
  "metadata": {
    "colab": {
      "provenance": [],
      "authorship_tag": "ABX9TyN8C7tuRsxZ4+bxdM7UrPtw",
      "include_colab_link": true
    },
    "kernelspec": {
      "name": "python3",
      "display_name": "Python 3"
    },
    "language_info": {
      "name": "python"
    }
  },
  "cells": [
    {
      "cell_type": "markdown",
      "metadata": {
        "id": "view-in-github",
        "colab_type": "text"
      },
      "source": [
        "<a href=\"https://colab.research.google.com/github/mahn-bonnie/Natural-Language-Processing/blob/master/Hopefieldnetwork.ipynb\" target=\"_parent\"><img src=\"https://colab.research.google.com/assets/colab-badge.svg\" alt=\"Open In Colab\"/></a>"
      ]
    },
    {
      "cell_type": "code",
      "execution_count": 1,
      "metadata": {
        "colab": {
          "base_uri": "https://localhost:8080/"
        },
        "id": "ak74r-cib3AJ",
        "outputId": "ef176ece-7097-4c51-b8b3-32936f5fba23"
      },
      "outputs": [
        {
          "output_type": "stream",
          "name": "stdout",
          "text": [
            "100 experiments completed. Screenshots saved in experiment_results.\n"
          ]
        }
      ],
      "source": [
        "import numpy as np\n",
        "import matplotlib.pyplot as plt\n",
        "import os\n",
        "from PIL import Image\n",
        "\n",
        "def hopfield_network(weights, num_iterations=10):\n",
        "    n = len(weights)\n",
        "    state_table = np.zeros((num_iterations, n))\n",
        "\n",
        "    for iteration in range(num_iterations):\n",
        "        state = np.random.choice([-1, 1], size=n)  # Random initial state\n",
        "\n",
        "        for _ in range(100):  # Simulate Hopfield dynamics\n",
        "            unit_index = np.random.randint(n)  # Randomly select a unit\n",
        "            net_input = np.dot(weights[unit_index], state)\n",
        "            state[unit_index] = np.sign(net_input)\n",
        "\n",
        "        state_table[iteration] = state\n",
        "\n",
        "    return state_table\n",
        "\n",
        "def save_screenshot(state_table, stable_states, iteration, save_path):\n",
        "    plt.imshow(state_table.T, cmap='gray', aspect='auto')\n",
        "    plt.title(f'Stable States: {stable_states}')\n",
        "    plt.xlabel('Iteration')\n",
        "    plt.ylabel('Units')\n",
        "    plt.savefig(os.path.join(save_path, f'{stable_states}_{iteration}.png'))\n",
        "    plt.close()\n",
        "\n",
        "# Experiment Parameters\n",
        "num_experiments = 100\n",
        "experiment_path = 'experiment_results'\n",
        "\n",
        "# Create directory if not exists\n",
        "os.makedirs(experiment_path, exist_ok=True)\n",
        "\n",
        "# Perform N experiments\n",
        "for i in range(num_experiments):\n",
        "    # Simulate Hopfield network with random weights\n",
        "    random_weights = np.random.uniform(-1, 1, size=(8, 8))\n",
        "    np.fill_diagonal(random_weights, 0)  # Zero on diagonal\n",
        "    random_weights = 0.5 * (random_weights + random_weights.T)  # Symmetric weights\n",
        "\n",
        "    stable_states = np.unique(hopfield_network(random_weights)[-1])\n",
        "\n",
        "    # Save screenshot\n",
        "    save_screenshot(hopfield_network(random_weights), stable_states, i, experiment_path)\n",
        "\n",
        "# Display success message\n",
        "print(f'{num_experiments} experiments completed. Screenshots saved in {experiment_path}.')\n"
      ]
    },
    {
      "cell_type": "code",
      "source": [
        "from PIL import Image\n",
        "import matplotlib.pyplot as plt\n",
        "import os\n",
        "\n",
        "# Load screenshots and analyze data\n",
        "experiment_path = 'experiment_results'\n",
        "screenshots = [f for f in os.listdir(experiment_path) if f.endswith('.png')]\n",
        "\n",
        "# Display histograms\n",
        "num_stable_states = [len(filename.split('_')[0]) for filename in screenshots]\n",
        "state_frequencies = {state: num_stable_states.count(state) for state in range(9)}\n",
        "\n",
        "plt.bar(state_frequencies.keys(), state_frequencies.values())\n",
        "plt.xlabel('Number of Stable States')\n",
        "plt.ylabel('Frequency')\n",
        "plt.title('Histogram of Stable States')\n",
        "plt.show()\n"
      ],
      "metadata": {
        "colab": {
          "base_uri": "https://localhost:8080/",
          "height": 472
        },
        "id": "tsVigT5_b7kI",
        "outputId": "7c8d75de-14db-464d-c740-0cc47027c685"
      },
      "execution_count": 2,
      "outputs": [
        {
          "output_type": "display_data",
          "data": {
            "text/plain": [
              "<Figure size 640x480 with 1 Axes>"
            ],
            "image/png": "[encoded data removed]"
          },
          "metadata": {}
        }
      ]
    },
    {
      "cell_type": "code",
      "source": [
        "import numpy as np\n",
        "\n",
        "def hopfield_network_custom_weights(weights, num_iterations=100):\n",
        "    n = len(weights)\n",
        "    state_table = np.zeros((num_iterations, n))\n",
        "\n",
        "    for iteration in range(num_iterations):\n",
        "        state = np.random.choice([-1, 1], size=n)  # Random initial state\n",
        "\n",
        "        for _ in range(100):  # Simulate Hopfield dynamics\n",
        "            unit_index = np.random.randint(n)  # Randomly select a unit\n",
        "            net_input = np.dot(weights[unit_index], state)\n",
        "            state[unit_index] = np.sign(net_input)\n",
        "\n",
        "        state_table[iteration] = state\n",
        "\n",
        "    return state_table\n",
        "\n",
        "# Test custom weights\n",
        "custom_weights = np.array([[0, 0.5, -0.2], [0.5, 0, 0.8], [-0.2, 0.8, 0]])\n",
        "custom_result = hopfield_network_custom_weights(custom_weights)\n",
        "print(\"Custom Weights Result:\")\n",
        "print(custom_result)\n"
      ],
      "metadata": {
        "colab": {
          "base_uri": "https://localhost:8080/"
        },
        "id": "2WiPguXmcnJk",
        "outputId": "f8b160fc-6946-4ac2-9fa1-0fb1e9b5dc7c"
      },
      "execution_count": 3,
      "outputs": [
        {
          "output_type": "stream",
          "name": "stdout",
          "text": [
            "Custom Weights Result:\n",
            "[[ 1.  1.  1.]\n",
            " [ 1.  1.  1.]\n",
            " [-1. -1. -1.]\n",
            " [ 1.  1.  1.]\n",
            " [-1. -1. -1.]\n",
            " [-1. -1. -1.]\n",
            " [ 1.  1.  1.]\n",
            " [ 1.  1.  1.]\n",
            " [-1. -1. -1.]\n",
            " [ 1.  1.  1.]\n",
            " [ 1.  1.  1.]\n",
            " [ 1.  1.  1.]\n",
            " [-1. -1. -1.]\n",
            " [ 1.  1.  1.]\n",
            " [ 1.  1.  1.]\n",
            " [-1. -1. -1.]\n",
            " [-1. -1. -1.]\n",
            " [-1. -1. -1.]\n",
            " [-1. -1. -1.]\n",
            " [ 1.  1.  1.]\n",
            " [ 1.  1.  1.]\n",
            " [-1. -1. -1.]\n",
            " [ 1.  1.  1.]\n",
            " [-1. -1. -1.]\n",
            " [-1. -1. -1.]\n",
            " [-1. -1. -1.]\n",
            " [ 1.  1.  1.]\n",
            " [-1. -1. -1.]\n",
            " [ 1.  1.  1.]\n",
            " [ 1.  1.  1.]\n",
            " [-1. -1. -1.]\n",
            " [-1. -1. -1.]\n",
            " [ 1.  1.  1.]\n",
            " [-1. -1. -1.]\n",
            " [ 1.  1.  1.]\n",
            " [-1. -1. -1.]\n",
            " [ 1.  1.  1.]\n",
            " [-1. -1. -1.]\n",
            " [ 1.  1.  1.]\n",
            " [-1. -1. -1.]\n",
            " [-1. -1. -1.]\n",
            " [-1. -1. -1.]\n",
            " [-1. -1. -1.]\n",
            " [ 1.  1.  1.]\n",
            " [-1. -1. -1.]\n",
            " [ 1.  1.  1.]\n",
            " [-1. -1. -1.]\n",
            " [-1. -1. -1.]\n",
            " [-1. -1. -1.]\n",
            " [ 1.  1.  1.]\n",
            " [-1. -1. -1.]\n",
            " [ 1.  1.  1.]\n",
            " [-1. -1. -1.]\n",
            " [ 1.  1.  1.]\n",
            " [ 1.  1.  1.]\n",
            " [-1. -1. -1.]\n",
            " [ 1.  1.  1.]\n",
            " [-1. -1. -1.]\n",
            " [ 1.  1.  1.]\n",
            " [-1. -1. -1.]\n",
            " [-1. -1. -1.]\n",
            " [ 1.  1.  1.]\n",
            " [-1. -1. -1.]\n",
            " [ 1.  1.  1.]\n",
            " [ 1.  1.  1.]\n",
            " [ 1.  1.  1.]\n",
            " [ 1.  1.  1.]\n",
            " [ 1.  1.  1.]\n",
            " [ 1.  1.  1.]\n",
            " [-1. -1. -1.]\n",
            " [-1. -1. -1.]\n",
            " [ 1.  1.  1.]\n",
            " [-1. -1. -1.]\n",
            " [-1. -1. -1.]\n",
            " [ 1.  1.  1.]\n",
            " [ 1.  1.  1.]\n",
            " [ 1.  1.  1.]\n",
            " [-1. -1. -1.]\n",
            " [ 1.  1.  1.]\n",
            " [-1. -1. -1.]\n",
            " [-1. -1. -1.]\n",
            " [ 1.  1.  1.]\n",
            " [ 1.  1.  1.]\n",
            " [ 1.  1.  1.]\n",
            " [ 1.  1.  1.]\n",
            " [ 1.  1.  1.]\n",
            " [-1. -1. -1.]\n",
            " [ 1.  1.  1.]\n",
            " [-1. -1. -1.]\n",
            " [-1. -1. -1.]\n",
            " [-1. -1. -1.]\n",
            " [ 1.  1.  1.]\n",
            " [-1. -1. -1.]\n",
            " [ 1.  1.  1.]\n",
            " [-1. -1. -1.]\n",
            " [ 1.  1.  1.]\n",
            " [-1. -1. -1.]\n",
            " [ 1.  1.  1.]\n",
            " [ 1.  1.  1.]\n",
            " [ 1.  1.  1.]]\n"
          ]
        }
      ]
    },
    {
      "cell_type": "code",
      "source": [],
      "metadata": {
        "id": "SmGqPZRac4oO"
      },
      "execution_count": null,
      "outputs": []
    }
  ]
}