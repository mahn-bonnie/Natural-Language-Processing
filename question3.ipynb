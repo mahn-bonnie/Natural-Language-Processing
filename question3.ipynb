{
  "nbformat": 4,
  "nbformat_minor": 0,
  "metadata": {
    "colab": {
      "provenance": []
    },
    "kernelspec": {
      "name": "python3",
      "display_name": "Python 3"
    },
    "language_info": {
      "name": "python"
    }
  },
  "cells": [
    {
      "cell_type": "code",
      "execution_count": 18,
      "metadata": {
        "colab": {
          "base_uri": "https://localhost:8080/"
        },
        "id": "BCuBx2u3YHtN",
        "outputId": "3e19ccc3-a288-4c0d-a3c4-e22fbc353ebf"
      },
      "outputs": [
        {
          "output_type": "stream",
          "name": "stdout",
          "text": [
            "i. 'Building' is a hypernym of 'house': False\n",
            "ii. 'Loft' is a meronym of 'house': False\n",
            "iii. 'Foundation' is a hyponym of 'structure': False\n",
            "iv. 'Transport' is a synonym of 'ship': False\n",
            "v. 'Arrive' is an antonym of 'leave': True\n"
          ]
        },
        {
          "output_type": "stream",
          "name": "stderr",
          "text": [
            "[nltk_data] Downloading package wordnet to /root/nltk_data...\n",
            "[nltk_data]   Package wordnet is already up-to-date!\n"
          ]
        }
      ],
      "source": [
        "# NLTK Implementation of WordNet\n",
        "\n",
        "import nltk\n",
        "\n",
        "nltk.download('wordnet')\n",
        "\n",
        "\n",
        "# i. 'Building' is a hypernym of 'house'.\n",
        "hypernyms_i = wordnet.synsets('building')[0].hypernyms()\n",
        "correct_i = any('house' in lemma.name() for synset in hypernyms_i for lemma in synset.lemmas())\n",
        "\n",
        "# ii. 'Loft' is a meronym of 'house'.\n",
        "meronyms_ii = wordnet.synsets('loft')[0].part_meronyms()\n",
        "correct_ii = any('house' in lemma.name() for synset in meronyms_ii for lemma in synset.lemmas())\n",
        "\n",
        "# iii. 'Foundation' is a hyponym of 'structure'.\n",
        "hyponyms_iii = wordnet.synsets('foundation')[0].hyponyms()\n",
        "correct_iii = any('structure' in lemma.name() for synset in hyponyms_iii for lemma in synset.lemmas())\n",
        "\n",
        "# iv. 'Transport' is a synonym of 'ship'.\n",
        "synonyms_iv = wordnet.synsets('transport')[0].lemmas()\n",
        "correct_iv = any('ship' in lemma.name() for lemma in synonyms_iv)\n",
        "\n",
        "# v. 'Arrive' is an antonym of 'leave'.\n",
        "antonyms_v = wordnet.synsets('arrive')[0].lemmas()[0].antonyms()\n",
        "correct_v = any('leave' in lemma.name() for lemma in antonyms_v)\n",
        "\n",
        "# Print results\n",
        "print(\"i. 'Building' is a hypernym of 'house':\", correct_i)\n",
        "print(\"ii. 'Loft' is a meronym of 'house':\", correct_ii)\n",
        "print(\"iii. 'Foundation' is a hyponym of 'structure':\", correct_iii)\n",
        "print(\"iv. 'Transport' is a synonym of 'ship':\", correct_iv)\n",
        "print(\"v. 'Arrive' is an antonym of 'leave':\", correct_v)\n",
        "\n"
      ]
    }
  ]
}