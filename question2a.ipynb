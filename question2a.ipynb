{
  "nbformat": 4,
  "nbformat_minor": 0,
  "metadata": {
    "colab": {
      "provenance": []
    },
    "kernelspec": {
      "name": "python3",
      "display_name": "Python 3"
    },
    "language_info": {
      "name": "python"
    }
  },
  "cells": [
    {
      "cell_type": "code",
      "execution_count": 3,
      "metadata": {
        "colab": {
          "base_uri": "https://localhost:8080/"
        },
        "id": "DYUrrwJOVgeI",
        "outputId": "ec31941c-57f2-433b-8ee9-b37df8d5207e"
      },
      "outputs": [
        {
          "output_type": "stream",
          "name": "stderr",
          "text": [
            "[nltk_data] Downloading package averaged_perceptron_tagger to\n",
            "[nltk_data]     /root/nltk_data...\n",
            "[nltk_data]   Unzipping taggers/averaged_perceptron_tagger.zip.\n"
          ]
        },
        {
          "output_type": "stream",
          "name": "stdout",
          "text": [
            "i. George Orwell was an influential British writer and journalist.\n",
            "Constituents: [[('George', 'NNP'), ('Orwell', 'NNP')], [('an', 'DT'), ('influential', 'JJ'), ('British', 'JJ'), ('writer', 'NN')], [('journalist', 'NN')]]\n",
            "Expected: ['an influential British writer and journalist']\n",
            "\n",
            "\n",
            "ii. Orwell served in the Indian Imperial Police in Burma.\n",
            "Constituents: [[('Orwell', 'NNP')], [('in', 'IN'), ('the', 'DT'), ('Indian', 'JJ'), ('Imperial', 'NNP'), ('Police', 'NNP')], [('the', 'DT'), ('Indian', 'JJ'), ('Imperial', 'NNP'), ('Police', 'NNP')], [('in', 'IN'), ('Burma', 'NNP')], [('Burma', 'NNP')]]\n",
            "Expected: ['George Orwell', 'an influential British writer and journalist']\n",
            "\n",
            "\n",
            "iii. Orwell's literary career flourished in the 1940s.\n",
            "Constituents: [[('Orwell', 'NNP')], [('literary', 'JJ'), ('career', 'NN')]]\n",
            "Expected: ['in the Indian Imperial Police in Burma']\n",
            "\n",
            "\n",
            "iv. Orwell was a master of the essay form.\n",
            "Constituents: [[('Orwell', 'NNP')], [('a', 'DT'), ('master', 'NN')], [('of', 'IN'), ('the', 'DT'), ('essay', 'NN'), ('form', 'NN')], [('the', 'DT'), ('essay', 'NN'), ('form', 'NN')]]\n",
            "Expected: ['Orwell', 'in the Indian Imperial Police in Burma']\n",
            "\n",
            "\n",
            "v. Orwell wrote influential essays on a wide range of topics.\n",
            "Constituents: [[('Orwell', 'NNP')], [('influential', 'JJ'), ('essays', 'NNS')], [('on', 'IN'), ('a', 'DT'), ('wide', 'JJ'), ('range', 'NN')], [('a', 'DT'), ('wide', 'JJ'), ('range', 'NN')], [('of', 'IN'), ('topics', 'NNS')], [('topics', 'NNS')]]\n",
            "Expected: ['in the 1940s']\n",
            "\n",
            "\n"
          ]
        }
      ],
      "source": [
        "import nltk\n",
        "from nltk import RegexpParser\n",
        "\n",
        "# Download the missing resource\n",
        "nltk.download('averaged_perceptron_tagger')\n",
        "\n",
        "# Examples\n",
        "sentences = [\n",
        "    \"George Orwell was an influential British writer and journalist.\",\n",
        "    \"Orwell served in the Indian Imperial Police in Burma.\",\n",
        "    \"Orwell's literary career flourished in the 1940s.\",\n",
        "    \"Orwell was a master of the essay form.\",\n",
        "    \"Orwell wrote influential essays on a wide range of topics.\"\n",
        "]\n",
        "\n",
        "# Constituency Tests\n",
        "constituency_results = {\n",
        "    \"i\": [\"an influential British writer and journalist\"],\n",
        "    \"ii\": [\"George Orwell\", \"an influential British writer and journalist\"],\n",
        "    \"iii\": [\"in the Indian Imperial Police in Burma\"],\n",
        "    \"iv\": [\"Orwell\", \"in the Indian Imperial Police in Burma\"],\n",
        "    \"v\": [\"in the 1940s\"],\n",
        "    \"vi\": [\"Orwell's literary career\", \"in the 1940s\"],\n",
        "    \"vii\": [\"a master of the essay form\"],\n",
        "    \"viii\": [\"Orwell\", \"a master of the essay form\"],\n",
        "    \"ix\": [\"influential essays\", \"on a wide range of topics\"],\n",
        "    \"x\": [\"Orwell\", \"influential essays\", \"on a wide range of topics\"]\n",
        "}\n",
        "\n",
        "# NLTK Constituency Parser\n",
        "parser = RegexpParser('''\n",
        "    NP: {<DT>?<JJ>*<NN.*>+}\n",
        "    VP: {<VB.*><NP|PP|CLAUSE>+$}\n",
        "    PP: {<IN><NP>}\n",
        "    CLAUSE: {<NP><VP>}\n",
        "''')\n",
        "\n",
        "# Perform constituency parsing and compare with expected results\n",
        "for key, sentence in zip(constituency_results.keys(), sentences):\n",
        "    print(f\"{key}. {sentence}\")\n",
        "\n",
        "    # Tokenize the sentence\n",
        "    words = nltk.word_tokenize(sentence)\n",
        "\n",
        "    # Part-of-speech tagging\n",
        "    pos_tags = nltk.pos_tag(words)\n",
        "\n",
        "    # Constituency parsing\n",
        "    tree = parser.parse(pos_tags)\n",
        "\n",
        "    # Print constituents\n",
        "    print(\"Constituents:\", [subtree.leaves() for subtree in tree.subtrees() if subtree.label() in ['NP', 'VP', 'PP', 'CLAUSE']])\n",
        "    print(\"Expected:\", constituency_results[key])\n",
        "    print(\"\\n\")\n",
        "\n",
        "\n"
      ]
    }
  ]
}