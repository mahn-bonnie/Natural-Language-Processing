{
  "nbformat": 4,
  "nbformat_minor": 0,
  "metadata": {
    "colab": {
      "provenance": [],
      "authorship_tag": "ABX9TyNsQNCmWalHqG7+oQ6ZeSgG",
      "include_colab_link": true
    },
    "kernelspec": {
      "name": "python3",
      "display_name": "Python 3"
    },
    "language_info": {
      "name": "python"
    }
  },
  "cells": [
    {
      "cell_type": "markdown",
      "metadata": {
        "id": "view-in-github",
        "colab_type": "text"
      },
      "source": [
        "<a href=\"https://colab.research.google.com/github/mahn-bonnie/Natural-Language-Processing/blob/master/Hopefield.ipynb\" target=\"_parent\"><img src=\"https://colab.research.google.com/assets/colab-badge.svg\" alt=\"Open In Colab\"/></a>"
      ]
    },
    {
      "cell_type": "code",
      "execution_count": 1,
      "metadata": {
        "colab": {
          "base_uri": "https://localhost:8080/"
        },
        "id": "ak74r-cib3AJ",
        "outputId": "ef176ece-7097-4c51-b8b3-32936f5fba23"
      },
      "outputs": [
        {
          "output_type": "stream",
          "name": "stdout",
          "text": [
            "100 experiments completed. Screenshots saved in experiment_results.\n"
          ]
        }
      ],
      "source": [
        "import numpy as np\n",
        "import matplotlib.pyplot as plt\n",
        "import os\n",
        "from PIL import Image\n",
        "\n",
        "def hopfield_network(weights, num_iterations=10):\n",
        "    n = len(weights)\n",
        "    state_table = np.zeros((num_iterations, n))\n",
        "\n",
        "    for iteration in range(num_iterations):\n",
        "        state = np.random.choice([-1, 1], size=n)  # Random initial state\n",
        "\n",
        "        for _ in range(100):  # Simulate Hopfield dynamics\n",
        "            unit_index = np.random.randint(n)  # Randomly select a unit\n",
        "            net_input = np.dot(weights[unit_index], state)\n",
        "            state[unit_index] = np.sign(net_input)\n",
        "\n",
        "        state_table[iteration] = state\n",
        "\n",
        "    return state_table\n",
        "\n",
        "def save_screenshot(state_table, stable_states, iteration, save_path):\n",
        "    plt.imshow(state_table.T, cmap='gray', aspect='auto')\n",
        "    plt.title(f'Stable States: {stable_states}')\n",
        "    plt.xlabel('Iteration')\n",
        "    plt.ylabel('Units')\n",
        "    plt.savefig(os.path.join(save_path, f'{stable_states}_{iteration}.png'))\n",
        "    plt.close()\n",
        "\n",
        "# Experiment Parameters\n",
        "num_experiments = 100\n",
        "experiment_path = 'experiment_results'\n",
        "\n",
        "# Create directory if not exists\n",
        "os.makedirs(experiment_path, exist_ok=True)\n",
        "\n",
        "# Perform N experiments\n",
        "for i in range(num_experiments):\n",
        "    # Simulate Hopfield network with random weights\n",
        "    random_weights = np.random.uniform(-1, 1, size=(8, 8))\n",
        "    np.fill_diagonal(random_weights, 0)  # Zero on diagonal\n",
        "    random_weights = 0.5 * (random_weights + random_weights.T)  # Symmetric weights\n",
        "\n",
        "    stable_states = np.unique(hopfield_network(random_weights)[-1])\n",
        "\n",
        "    # Save screenshot\n",
        "    save_screenshot(hopfield_network(random_weights), stable_states, i, experiment_path)\n",
        "\n",
        "# Display success message\n",
        "print(f'{num_experiments} experiments completed. Screenshots saved in {experiment_path}.')\n"
      ]
    },
    {
      "cell_type": "code",
      "source": [],
      "metadata": {
        "id": "tsVigT5_b7kI"
      },
      "execution_count": null,
      "outputs": []
    }
  ]
}