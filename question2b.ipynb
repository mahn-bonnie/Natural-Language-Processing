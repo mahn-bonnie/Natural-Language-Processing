{
  "nbformat": 4,
  "nbformat_minor": 0,
  "metadata": {
    "colab": {
      "provenance": []
    },
    "kernelspec": {
      "name": "python3",
      "display_name": "Python 3"
    },
    "language_info": {
      "name": "python"
    }
  },
  "cells": [
    {
      "cell_type": "code",
      "execution_count": 1,
      "metadata": {
        "colab": {
          "base_uri": "https://localhost:8080/"
        },
        "id": "BCuBx2u3YHtN",
        "outputId": "f710a8aa-6891-4ed8-c999-0227855eed19"
      },
      "outputs": [
        {
          "output_type": "stream",
          "name": "stdout",
          "text": [
            "i. Long distance dependency: that helped women defy political and societal restrictions barring their access to living active and sporting lives.\n",
            "ii. Restrictive relative clause: clothing patents has revealed a hidden history of innovators and inventive clothing.\n",
            "iii. Gerundive postmodifier: barring their access to living active and sporting lives.\n",
            "iv. Sentential complement: research into thousands of historic clothing patents has revealed a hidden history.\n"
          ]
        }
      ],
      "source": [
        "# Constructions from Example Text\n",
        "\n",
        "# Examples\n",
        "example_text = \"\"\"\n",
        "Unique research into thousands of historic clothing patents has revealed a hidden\n",
        "history of innovators and inventive clothing that helped women defy political and\n",
        "societal restrictions barring their access to living active and sporting lives.\n",
        "\"\"\"\n",
        "\n",
        "\n",
        "# Long distance dependency\n",
        "ldd_example = \"that helped women defy political and societal restrictions barring their access to living active and sporting lives.\"\n",
        "# Restrictive relative clause\n",
        "rrc_example = \"clothing patents has revealed a hidden history of innovators and inventive clothing.\"\n",
        "# Gerundive postmodifier\n",
        "gp_example = \"barring their access to living active and sporting lives.\"\n",
        "# Sentential complement\n",
        "sc_example = \"research into thousands of historic clothing patents has revealed a hidden history.\"\n",
        "\n",
        "# Printing the results\n",
        "print(f\"i. Long distance dependency: {ldd_example}\")\n",
        "print(f\"ii. Restrictive relative clause: {rrc_example}\")\n",
        "print(f\"iii. Gerundive postmodifier: {gp_example}\")\n",
        "print(f\"iv. Sentential complement: {sc_example}\")\n"
      ]
    }
  ]
}